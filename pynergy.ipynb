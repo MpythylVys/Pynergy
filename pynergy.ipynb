{
 "cells": [
  {
   "cell_type": "code",
   "execution_count": 2,
   "id": "c3a21624",
   "metadata": {},
   "outputs": [
    {
     "name": "stdout",
     "output_type": "stream",
     "text": [
      "Enter your unit: 200\n",
      "Bill Per Unit: 1122.0\n",
      "Bill after adding Line rent: 1412.0\n",
      "Bill after adding Meter rent: 1512.0\n",
      "Total Bill after adding tax: 1753.92\n"
     ]
    }
   ],
   "source": [
    "unit = int(input(\"Enter your unit: \"))\n",
    "if unit <= 100:\n",
    "    bill = unit * 5.66\n",
    "elif unit >= 101 and unit <= 300:\n",
    "    bill = 346 + ((unit - 100) * 7.76)\n",
    "elif unit >= 301 and unit <= 500:\n",
    "    bill = 346 + 1486 + ((unit - 300) * 9.66)\n",
    "else:\n",
    "    bill = 346 + 1486 + 2064 + ((unit - 500) * 10.76)\n",
    "print(\"Bill Per Unit:\",bill)\n",
    "bill = bill + (unit*1.45)\n",
    "print(\"Bill after adding Line rent:\",bill)\n",
    "bill = bill + 100\n",
    "print(\"Bill after adding Meter rent:\",bill)\n",
    "bill = bill + (bill*0.16)\n",
    "print(\"Total Bill after adding tax:\",bill)"
   ]
  },
  {
   "cell_type": "code",
   "execution_count": null,
   "id": "ed29ab77",
   "metadata": {},
   "outputs": [],
   "source": []
  }
 ],
 "metadata": {
  "kernelspec": {
   "display_name": "Python 3 (ipykernel)",
   "language": "python",
   "name": "python3"
  },
  "language_info": {
   "codemirror_mode": {
    "name": "ipython",
    "version": 3
   },
   "file_extension": ".py",
   "mimetype": "text/x-python",
   "name": "python",
   "nbconvert_exporter": "python",
   "pygments_lexer": "ipython3",
   "version": "3.10.9"
  }
 },
 "nbformat": 4,
 "nbformat_minor": 5
}
